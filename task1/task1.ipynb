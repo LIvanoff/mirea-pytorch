{
  "nbformat": 4,
  "nbformat_minor": 0,
  "metadata": {
    "colab": {
      "provenance": [],
      "authorship_tag": "ABX9TyO+NnUpU7sQI82M8BXoGVXm",
      "include_colab_link": true
    },
    "kernelspec": {
      "name": "python3",
      "display_name": "Python 3"
    },
    "language_info": {
      "name": "python"
    }
  },
  "cells": [
    {
      "cell_type": "markdown",
      "metadata": {
        "id": "view-in-github",
        "colab_type": "text"
      },
      "source": [
        "<a href=\"https://colab.research.google.com/github/LIvanoff/mirea-pytorch/blob/main/task1.ipynb\" target=\"_parent\"><img src=\"https://colab.research.google.com/assets/colab-badge.svg\" alt=\"Open In Colab\"/></a>"
      ]
    },
    {
      "cell_type": "markdown",
      "source": [
        "# Домашнее задание 1"
      ],
      "metadata": {
        "id": "kxrAl_xPsooF"
      }
    },
    {
      "cell_type": "code",
      "source": [
        "from torch import nn # модуль с базовыми слоями\n",
        "import torch.nn.functional as F # модуль с базовыми функциями\n",
        "from torch import optim\n",
        "\n",
        "class Neuron(torch.nn.Module):\n",
        "  def __init__(self):\n",
        "    super().__init__()\n",
        "    self.fc1 = torch.nn.Linear(2, 3)\n",
        "    self.activ1 = torch.nn.Sigmoid()\n",
        "    self.fc2 = torch.nn.Linear(3, 3)\n",
        "    self.activ2 = torch.nn.Sigmoid()\n",
        "    self.fc3 = torch.nn.Linear(3, 1)\n",
        "\n",
        "  def forward(self, x):\n",
        "    x = self.fc1(x)\n",
        "    x = self.activ1(x)\n",
        "    x = self.fc2(x)\n",
        "    x = self.activ2(x)\n",
        "    x = self.fc3(x)\n",
        "    return x\n",
        "    # x = torch.heaviside(self.fc1(x), torch.tensor([0.0]))\n",
        "    # x = torch.heaviside(self.fc2(x), torch.tensor([0.0]))\n",
        "    # return torch.heaviside(self.fc3(x), torch.tensor([0.0]))\n",
        "  \n",
        "model = Neuron()\n",
        "\n",
        "x_train = torch.Tensor([[0.0,0.0], [1.0,0.0], [0.0,1.0], [1.0,1.0]])\n",
        "y = torch.Tensor([[0.0], [1.0],[1.0], [0.0]])\n",
        "optimizer = torch.optim.Adam(model.parameters(), \n",
        "                             lr=1.0e-3)\n",
        "loss = torch.nn.CrossEntropyLoss()\n",
        "# print(model.fc.weight)\n",
        "# model.forward(x)\n",
        "# print(model.fc.weight)\n",
        "\n",
        "# print(model.fc1.weight)\n",
        "# OUT = model.forward(x_train)\n",
        "# print(OUT)\n",
        "\n",
        "for epoch in range(1000):\n",
        "  for i in range(0, len(x_train)):\n",
        "    OUT = model.forward(x_train)\n",
        "    loss = loss(OUT, y)\n",
        "    print(loss)\n",
        "    loss.backward()\n",
        "    optimizer.step()\n",
        "  if epoch % 100 == 0:\n",
        "        test_preds = model.forward(x_train)\n",
        "        test_preds = test_preds.argmax(dim=1)\n",
        "        print((test_preds == y).float().mean())"
      ],
      "metadata": {
        "id": "JKv1i1nwstcK"
      },
      "execution_count": null,
      "outputs": []
    }
  ]
}